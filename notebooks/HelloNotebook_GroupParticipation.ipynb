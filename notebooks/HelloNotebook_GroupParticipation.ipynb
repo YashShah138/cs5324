{
 "cells": [
  {
   "cell_type": "markdown",
   "id": "046b5615",
   "metadata": {},
   "source": [
    "# GROUP MEMBERS\n",
    "- Truman Barden: \n",
    "- Yash Shah: Proficient with jupyter notebooks\n",
    "- Ameen Zia: "
   ]
  },
  {
   "cell_type": "markdown",
   "id": "bb371330",
   "metadata": {},
   "source": [
    "# TODO \n",
    "\n",
    "Lots more formatting options for **MARKDOWN CELLS** can be found here: https://docs.github.com/en/get-started/writing-on-github/getting-started-with-writing-and-formatting-on-github/basic-writing-and-formatting-syntax\n",
    "\n",
    "Copy and paste *this* cell just below the one you added for group members.  Add to it a quote from your favorite computer scientist or AI visionary. Use the correct format code to add a text quote that the group agrees to include. Be sure to include an attribution from the author.\n",
    "\n",
    "**Quote:**\n",
    "> \"I propose to consider the question, 'Can machines think?'\"\n",
    "> \n",
    "> -- <cite>Alan Turing</cite>"
   ]
  },
  {
   "cell_type": "markdown",
   "id": "6837fa51",
   "metadata": {},
   "source": [
    "# Let's do a quick start for jupyter notebooks\n",
    "(This assumes you have installed the SW for running jupyter notebooks.)\n",
    "Jupyter notebooks are a series of \"cells\" that run in your browser. \n",
    "There are two essential types: MARKDOWN cells used for explanatory text and CODE cells for source code (Python for us..the \"kernel\" associated with your notebook determines this.)"
   ]
  },
  {
   "cell_type": "markdown",
   "id": "adf97795",
   "metadata": {},
   "source": [
    "This is a little warmup assignment that **you may submit one as a group**. It will be considered part of your participation grade and is a chance to work together and explore the basics of working with Jupyter notebooks, the primary tool for our course."
   ]
  },
  {
   "cell_type": "markdown",
   "id": "6e3ea74b",
   "metadata": {},
   "source": [
    "# Create cells many ways...\n",
    "+ button on tool bar \n",
    "+ Insert-> on menu bar\n",
    "+ SHFT-RETURN "
   ]
  },
  {
   "cell_type": "markdown",
   "id": "e46e9fc9",
   "metadata": {},
   "source": [
    "# This is a markdown cell for text.\n",
    "Change the type of cell with the dropdown box on the tool bar. \n",
    "\n",
    "Stop entering data with CMD-shift. That \"renders\" the cell.\n",
    "Double-click or hit RETURN on the cell to begin editing again.\n",
    "\n",
    "Note the color-coding of the cell. Blue means it is rendered. Green means you can edit it when it is active."
   ]
  },
  {
   "cell_type": "markdown",
   "id": "df2b8d67",
   "metadata": {},
   "source": [
    "Another way to render a cell is to hit the Run button on the toolbar"
   ]
  },
  {
   "cell_type": "markdown",
   "id": "864cb9b2",
   "metadata": {},
   "source": [
    "# TODO: \n",
    "Add a MARKDOWN CELL just above this one that says \"Another way to render a cell is to hit the Run button on the toolbar\""
   ]
  },
  {
   "cell_type": "markdown",
   "id": "c08442ef",
   "metadata": {},
   "source": [
    "# TODO:\n",
    "\n",
    "Add a MARKDOWN CELL at the very top of this page that has a level one header that says **GROUP MEMBERS** and, below that, use a list to make a list of the names of all the people in your group. Include a short note about each member's level of experience (if any) with jupyter notebooks."
   ]
  },
  {
   "cell_type": "code",
   "execution_count": 1,
   "id": "492f8124",
   "metadata": {},
   "outputs": [
    {
     "name": "stdout",
     "output_type": "stream",
     "text": [
      "Hello Jupyter Notebook\n"
     ]
    }
   ],
   "source": [
    "# This is a code cell. This notebook support Python 3, so here goes valid Python code\n",
    "print (\"Hello Jupyter Notebook\")"
   ]
  },
  {
   "cell_type": "markdown",
   "id": "67dfda3b",
   "metadata": {},
   "source": [
    "# TODO:\n",
    "Run the a CODE cell below and observe the error.  Then correct and rerun the code."
   ]
  },
  {
   "cell_type": "code",
   "execution_count": null,
   "id": "1f8e878d",
   "metadata": {},
   "outputs": [
    {
     "name": "stdout",
     "output_type": "stream",
     "text": [
      "The meaning of life is 42\n"
     ]
    }
   ],
   "source": [
    "val = 42\n",
    "print(\"The meaning of life is\", val)"
   ]
  },
  {
   "cell_type": "markdown",
   "id": "790fd31c",
   "metadata": {},
   "source": [
    "# TODO:\n",
    "Add a CODE cell immediately below and print some algebraic expression that references variable val. Run it.\n"
   ]
  },
  {
   "cell_type": "code",
   "execution_count": 3,
   "id": "32485e40",
   "metadata": {},
   "outputs": [
    {
     "name": "stdout",
     "output_type": "stream",
     "text": [
      "1764\n"
     ]
    }
   ],
   "source": [
    "new_val = val * 42\n",
    "print(new_val)"
   ]
  },
  {
   "cell_type": "markdown",
   "id": "b508820a",
   "metadata": {},
   "source": [
    "# TODO \n",
    "\n",
    "Lots more formatting options for **MARKDOWN CELLS** can be found here: https://docs.github.com/en/get-started/writing-on-github/getting-started-with-writing-and-formatting-on-github/basic-writing-and-formatting-syntax\n",
    "\n",
    "Copy and paste *this* cell just below the one you added for group members.  Add to it a quote from your favorite computer scientist or AI visionary. Use the correct format code to add a text quote that the group agrees to include. Be sure to include an attribution from the author.\n"
   ]
  },
  {
   "cell_type": "markdown",
   "id": "f2fbe08e",
   "metadata": {},
   "source": [
    "# FINAL TODO: \n",
    "## Submit the fully rendered notebook in **_HTML_** format via Canvas as a file upload. This counts toward participation. \n",
    "+ ONLY one person needs to submit the notebook.\n",
    "+ EVERY person in the group needs to self-select as part of the group in Canvas"
   ]
  }
 ],
 "metadata": {
  "kernelspec": {
   "display_name": "Python 3 (ipykernel)",
   "language": "python",
   "name": "python3"
  },
  "language_info": {
   "codemirror_mode": {
    "name": "ipython",
    "version": 3
   },
   "file_extension": ".py",
   "mimetype": "text/x-python",
   "name": "python",
   "nbconvert_exporter": "python",
   "pygments_lexer": "ipython3",
   "version": "3.12.11"
  }
 },
 "nbformat": 4,
 "nbformat_minor": 5
}
